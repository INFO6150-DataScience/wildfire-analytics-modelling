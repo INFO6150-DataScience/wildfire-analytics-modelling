{
 "cells": [
  {
   "cell_type": "code",
   "execution_count": 73,
   "id": "774320be",
   "metadata": {},
   "outputs": [],
   "source": [
    "%matplotlib inline\n",
    "import numpy as np\n",
    "import pandas as pd\n",
    "import matplotlib.pylab as plt\n",
    "import seaborn as sns\n",
    "sns.set_context('notebook')\n",
    "\n",
    "RANDOM_SEED = 20090425\n",
    "from scipy.stats import norm,gamma,chi2, expon, uniform\n",
    "\n",
    "from scipy.special import expit"
   ]
  },
  {
   "cell_type": "code",
   "execution_count": 141,
   "id": "b1c2bd47",
   "metadata": {},
   "outputs": [
    {
     "data": {
      "text/html": [
       "<div>\n",
       "<style scoped>\n",
       "    .dataframe tbody tr th:only-of-type {\n",
       "        vertical-align: middle;\n",
       "    }\n",
       "\n",
       "    .dataframe tbody tr th {\n",
       "        vertical-align: top;\n",
       "    }\n",
       "\n",
       "    .dataframe thead th {\n",
       "        text-align: right;\n",
       "    }\n",
       "</style>\n",
       "<table border=\"1\" class=\"dataframe\">\n",
       "  <thead>\n",
       "    <tr style=\"text-align: right;\">\n",
       "      <th></th>\n",
       "      <th>Entity</th>\n",
       "      <th>Code</th>\n",
       "      <th>Year</th>\n",
       "      <th>Annual_carbon_dioxide_emissions</th>\n",
       "    </tr>\n",
       "  </thead>\n",
       "  <tbody>\n",
       "    <tr>\n",
       "      <th>0</th>\n",
       "      <td>Afghanistan</td>\n",
       "      <td>AFG</td>\n",
       "      <td>2003</td>\n",
       "      <td>0.658754</td>\n",
       "    </tr>\n",
       "    <tr>\n",
       "      <th>1</th>\n",
       "      <td>Afghanistan</td>\n",
       "      <td>AFG</td>\n",
       "      <td>2004</td>\n",
       "      <td>0.433206</td>\n",
       "    </tr>\n",
       "    <tr>\n",
       "      <th>2</th>\n",
       "      <td>Afghanistan</td>\n",
       "      <td>AFG</td>\n",
       "      <td>2005</td>\n",
       "      <td>0.310266</td>\n",
       "    </tr>\n",
       "    <tr>\n",
       "      <th>3</th>\n",
       "      <td>Afghanistan</td>\n",
       "      <td>AFG</td>\n",
       "      <td>2006</td>\n",
       "      <td>0.469605</td>\n",
       "    </tr>\n",
       "    <tr>\n",
       "      <th>4</th>\n",
       "      <td>Afghanistan</td>\n",
       "      <td>AFG</td>\n",
       "      <td>2007</td>\n",
       "      <td>0.546588</td>\n",
       "    </tr>\n",
       "    <tr>\n",
       "      <th>...</th>\n",
       "      <td>...</td>\n",
       "      <td>...</td>\n",
       "      <td>...</td>\n",
       "      <td>...</td>\n",
       "    </tr>\n",
       "    <tr>\n",
       "      <th>5671</th>\n",
       "      <td>Zimbabwe</td>\n",
       "      <td>ZWE</td>\n",
       "      <td>2020</td>\n",
       "      <td>7.861682</td>\n",
       "    </tr>\n",
       "    <tr>\n",
       "      <th>5672</th>\n",
       "      <td>Zimbabwe</td>\n",
       "      <td>ZWE</td>\n",
       "      <td>2021</td>\n",
       "      <td>20.230054</td>\n",
       "    </tr>\n",
       "    <tr>\n",
       "      <th>5673</th>\n",
       "      <td>Zimbabwe</td>\n",
       "      <td>ZWE</td>\n",
       "      <td>2022</td>\n",
       "      <td>28.025788</td>\n",
       "    </tr>\n",
       "    <tr>\n",
       "      <th>5674</th>\n",
       "      <td>Zimbabwe</td>\n",
       "      <td>ZWE</td>\n",
       "      <td>2023</td>\n",
       "      <td>27.818398</td>\n",
       "    </tr>\n",
       "    <tr>\n",
       "      <th>5675</th>\n",
       "      <td>Zimbabwe</td>\n",
       "      <td>ZWE</td>\n",
       "      <td>2024</td>\n",
       "      <td>0.192419</td>\n",
       "    </tr>\n",
       "  </tbody>\n",
       "</table>\n",
       "<p>5676 rows × 4 columns</p>\n",
       "</div>"
      ],
      "text/plain": [
       "           Entity Code  Year  Annual_carbon_dioxide_emissions\n",
       "0     Afghanistan  AFG  2003                         0.658754\n",
       "1     Afghanistan  AFG  2004                         0.433206\n",
       "2     Afghanistan  AFG  2005                         0.310266\n",
       "3     Afghanistan  AFG  2006                         0.469605\n",
       "4     Afghanistan  AFG  2007                         0.546588\n",
       "...           ...  ...   ...                              ...\n",
       "5671     Zimbabwe  ZWE  2020                         7.861682\n",
       "5672     Zimbabwe  ZWE  2021                        20.230054\n",
       "5673     Zimbabwe  ZWE  2022                        28.025788\n",
       "5674     Zimbabwe  ZWE  2023                        27.818398\n",
       "5675     Zimbabwe  ZWE  2024                         0.192419\n",
       "\n",
       "[5676 rows x 4 columns]"
      ]
     },
     "execution_count": 141,
     "metadata": {},
     "output_type": "execute_result"
    }
   ],
   "source": [
    "df = pd.read_csv('data/annual-carbon-dioxide-emissions.csv')\n",
    "\n",
    "df['Annual_carbon_dioxide_emissions']= df['Annual_carbon_dioxide_emissions'].div(10**6)\n",
    "df"
   ]
  },
  {
   "cell_type": "code",
   "execution_count": 142,
   "id": "1ca4ad9f",
   "metadata": {},
   "outputs": [
    {
     "name": "stdout",
     "output_type": "stream",
     "text": [
      "     Entity Code  Year  Annual_carbon_dioxide_emissions\n",
      "2354  India  IND  2003                        79.619300\n",
      "2355  India  IND  2004                        83.115340\n",
      "2356  India  IND  2005                        80.994260\n",
      "2357  India  IND  2006                        83.202216\n",
      "2358  India  IND  2007                        72.944420\n",
      "2359  India  IND  2008                        63.249172\n",
      "2360  India  IND  2009                        88.624190\n",
      "2361  India  IND  2010                        72.259540\n",
      "2362  India  IND  2011                        60.604588\n",
      "2363  India  IND  2012                        73.798616\n",
      "2364  India  IND  2013                        57.648076\n",
      "2365  India  IND  2014                        64.428360\n",
      "2366  India  IND  2015                        63.010204\n",
      "2367  India  IND  2016                        96.181784\n",
      "2368  India  IND  2017                        51.851268\n",
      "2369  India  IND  2018                        56.284668\n",
      "2370  India  IND  2019                        52.370636\n",
      "2371  India  IND  2020                        45.254812\n",
      "2372  India  IND  2021                        76.489144\n",
      "2373  India  IND  2022                        51.659350\n",
      "2374  India  IND  2023                        45.964492\n",
      "2375  India  IND  2024                        25.617292\n"
     ]
    }
   ],
   "source": [
    "code = 'India'  # Replace 'AFG' with the code you want to filter by\n",
    "filtered_df = df[df['Entity'] == code]\n",
    "print(filtered_df)"
   ]
  },
  {
   "cell_type": "code",
   "execution_count": 143,
   "id": "0b6e4e88",
   "metadata": {},
   "outputs": [
    {
     "data": {
      "text/plain": [
       "(67.5978302857143, 14.598296114383885)"
      ]
     },
     "execution_count": 143,
     "metadata": {},
     "output_type": "execute_result"
    }
   ],
   "source": [
    "Annual_carbon_dioxide_emissions_values = filtered_df.Annual_carbon_dioxide_emissions\n",
    "Annual_carbon_dioxide_emissions_values = Annual_carbon_dioxide_emissions_values[:-1]\n",
    "Annual_carbon_dioxide_emissions_mean = Annual_carbon_dioxide_emissions_values.mean()\n",
    "Annual_carbon_dioxide_emissions_std = Annual_carbon_dioxide_emissions_values.std()\n",
    "Annual_carbon_dioxide_emissions_mean,Annual_carbon_dioxide_emissions_std"
   ]
  },
  {
   "cell_type": "code",
   "execution_count": 144,
   "id": "e1fa2326",
   "metadata": {},
   "outputs": [
    {
     "data": {
      "text/plain": [
       "(313.0136985530715, 0.21595805742109742)"
      ]
     },
     "execution_count": 144,
     "metadata": {},
     "output_type": "execute_result"
    }
   ],
   "source": [
    "Annual_carbon_dioxide_emissions_alpha_mom = Annual_carbon_dioxide_emissions_mean ** 2 / Annual_carbon_dioxide_emissions_std\n",
    "Annual_carbon_dioxide_emissions_beta_mom = Annual_carbon_dioxide_emissions_std / Annual_carbon_dioxide_emissions_mean\n",
    "Annual_carbon_dioxide_emissions_alpha_mom, Annual_carbon_dioxide_emissions_beta_mom"
   ]
  },
  {
   "cell_type": "code",
   "execution_count": 145,
   "id": "98824614",
   "metadata": {},
   "outputs": [
    {
     "name": "stdout",
     "output_type": "stream",
     "text": [
      "2354    79.619300\n",
      "2355    83.115340\n",
      "2356    80.994260\n",
      "2357    83.202216\n",
      "2358    72.944420\n",
      "2359    63.249172\n",
      "2360    88.624190\n",
      "2361    72.259540\n",
      "2362    60.604588\n",
      "2363    73.798616\n",
      "2364    57.648076\n",
      "2365    64.428360\n",
      "2366    63.010204\n",
      "2367    96.181784\n",
      "2368    51.851268\n",
      "2369    56.284668\n",
      "2370    52.370636\n",
      "2371    45.254812\n",
      "2372    76.489144\n",
      "2373    51.659350\n",
      "2374    45.964492\n",
      "Name: Annual_carbon_dioxide_emissions, dtype: float64\n"
     ]
    },
    {
     "data": {
      "image/png": "[encoded data removed]",
      "text/plain": [
       "<Figure size 720x432 with 1 Axes>"
      ]
     },
     "metadata": {
      "needs_background": "light"
     },
     "output_type": "display_data"
    }
   ],
   "source": [
    "\n",
    "data = Annual_carbon_dioxide_emissions_values\n",
    "print(data)\n",
    "# Plotting the histogram\n",
    "plt.figure(figsize=(10, 6))\n",
    "\n",
    "plt.hist(data, bins=5,edgecolor='black', density=True, alpha=0.5, label='Histogram')\n",
    "\n",
    "plt.title('Histogram of Annual carbon dioxide emissions')\n",
    "plt.xlabel('Values')\n",
    "plt.ylabel('Frequency')\n",
    "plt.grid(True)\n",
    "plt.show()"
   ]
  },
  {
   "cell_type": "code",
   "execution_count": 146,
   "id": "6b909ae2",
   "metadata": {},
   "outputs": [
    {
     "data": {
      "image/png": "[encoded data removed]",
      "text/plain": [
       "<Figure size 720x432 with 1 Axes>"
      ]
     },
     "metadata": {
      "needs_background": "light"
     },
     "output_type": "display_data"
    }
   ],
   "source": [
    "# Historical values\n",
    "\n",
    "historical_values = Annual_carbon_dioxide_emissions_values\n",
    "\n",
    "# Generate data for the normal distribution curve\n",
    "x = np.linspace(min(historical_values), max(historical_values), 1000)\n",
    "y = norm.pdf(x, Annual_carbon_dioxide_emissions_mean, Annual_carbon_dioxide_emissions_std)\n",
    "y1=gamma.pdf(x, a=Annual_carbon_dioxide_emissions_alpha_mom, scale=Annual_carbon_dioxide_emissions_beta_mom)\n",
    "y2 = uniform.pdf(x,loc=min(historical_values), scale=max(historical_values)-min(historical_values))\n",
    "y3 = expon.pdf(x, scale=Annual_carbon_dioxide_emissions_mean)\n",
    "# Plotting\n",
    "plt.figure(figsize=(10, 6))\n",
    "plt.plot(x, y, label='Normal Distribution')\n",
    "# plt.plot(x, y1, label='Gamma Distribution')\n",
    "plt.plot(x, y2, label='Uniform Distribution')\n",
    "plt.plot(x, y3, label='Exponential Distribution')\n",
    "plt.hist(historical_values, bins=10, density=True, alpha=0.5, label='Histogram')\n",
    "plt.title('Normal Distribution for Historical Values')\n",
    "plt.xlabel('Historical Value')\n",
    "plt.ylabel('Density')\n",
    "plt.legend()\n",
    "plt.grid(True)\n",
    "plt.show()\n"
   ]
  },
  {
   "cell_type": "code",
   "execution_count": 147,
   "id": "427a5208",
   "metadata": {},
   "outputs": [],
   "source": [
    "from pymc3 import Model, Uniform, Normal\n",
    "\n",
    "with Model() as rainfall_model_normal:\n",
    "    nalpha = Normal('nalpha', mu=Annual_carbon_dioxide_emissions_alpha_mom, sd=10)\n",
    "    nbeta = Normal('nbeta', mu=Annual_carbon_dioxide_emissions_alpha_mom, sd=10)"
   ]
  },
  {
   "cell_type": "code",
   "execution_count": 148,
   "id": "8a488c6b",
   "metadata": {},
   "outputs": [
    {
     "name": "stderr",
     "output_type": "stream",
     "text": [
      "C:\\Users\\Anurag\\anaconda3\\lib\\site-packages\\pymc3\\distributions\\continuous.py:138: UserWarning: The variable specified for alpha has negative support for Gamma, likely making it unsuitable for this parameter.\n",
      "  warnings.warn(msg)\n",
      "C:\\Users\\Anurag\\anaconda3\\lib\\site-packages\\pymc3\\distributions\\continuous.py:138: UserWarning: The variable specified for beta has negative support for Gamma, likely making it unsuitable for this parameter.\n",
      "  warnings.warn(msg)\n"
     ]
    }
   ],
   "source": [
    "from pymc3 import Gamma\n",
    "with rainfall_model_normal:\n",
    "    april_like = Gamma('april_like', alpha=nalpha, beta=nbeta, observed=Annual_carbon_dioxide_emissions_values)"
   ]
  },
  {
   "cell_type": "code",
   "execution_count": 149,
   "id": "530dfcbd",
   "metadata": {},
   "outputs": [
    {
     "data": {
      "text/html": [
       "\n",
       "<style>\n",
       "    /* Turns off some styling */\n",
       "    progress {\n",
       "        /* gets rid of default border in Firefox and Opera. */\n",
       "        border: none;\n",
       "        /* Needs to be in here for Safari polyfill so background images work as expected. */\n",
       "        background-size: auto;\n",
       "    }\n",
       "    progress:not([value]), progress:not([value])::-webkit-progress-bar {\n",
       "        background: repeating-linear-gradient(45deg, #7e7e7e, #7e7e7e 10px, #5c5c5c 10px, #5c5c5c 20px);\n",
       "    }\n",
       "    .progress-bar-interrupted, .progress-bar-interrupted::-webkit-progress-bar {\n",
       "        background: #F44336;\n",
       "    }\n",
       "</style>\n"
      ],
      "text/plain": [
       "<IPython.core.display.HTML object>"
      ]
     },
     "metadata": {},
     "output_type": "display_data"
    },
    {
     "data": {
      "text/html": [
       "\n",
       "    <div>\n",
       "      <progress value='10000' class='' max='10000' style='width:300px; height:20px; vertical-align: middle;'></progress>\n",
       "      100.00% [10000/10000 00:32&lt;00:00 Average Loss = 4.058e+05]\n",
       "    </div>\n",
       "    "
      ],
      "text/plain": [
       "<IPython.core.display.HTML object>"
      ]
     },
     "metadata": {},
     "output_type": "display_data"
    },
    {
     "name": "stderr",
     "output_type": "stream",
     "text": [
      "Finished [100%]: Average Loss = 4.058e+05\n"
     ]
    }
   ],
   "source": [
    "from pymc3 import fit\n",
    "\n",
    "with rainfall_model_normal: \n",
    "    rainfall_trace_normal = fit(random_seed=RANDOM_SEED).sample(1000)"
   ]
  },
  {
   "cell_type": "code",
   "execution_count": 150,
   "id": "aee9a6a8",
   "metadata": {},
   "outputs": [
    {
     "name": "stdout",
     "output_type": "stream",
     "text": [
      "316.17558882305167 309.833456645933\n"
     ]
    },
    {
     "data": {
      "text/plain": [
       "[<matplotlib.lines.Line2D at 0x1824803b910>]"
      ]
     },
     "execution_count": 150,
     "metadata": {},
     "output_type": "execute_result"
    },
    {
     "data": {
      "image/png": "[encoded data removed]",
      "text/plain": [
       "<Figure size 432x288 with 1 Axes>"
      ]
     },
     "metadata": {
      "needs_background": "light"
     },
     "output_type": "display_data"
    }
   ],
   "source": [
    "from scipy.stats.distributions import gamma\n",
    "\n",
    "ealpha_posterior_mean = rainfall_trace_normal['nalpha'].mean()\n",
    "ebeta_posterior_mean = rainfall_trace_normal['nbeta'].mean()\n",
    "print(ealpha_posterior_mean,ebeta_posterior_mean)\n",
    "Annual_carbon_dioxide_emissions_values.hist(density=True, bins=10)\n",
    "# x=np.linspace(min(Annual_carbon_dioxide_emissions_values), max(Annual_carbon_dioxide_emissions_values), 25)\n",
    "x=np.linspace(0, 100)\n",
    "plt.plot(x, gamma.pdf(x, ealpha_posterior_mean, ebeta_posterior_mean))"
   ]
  },
  {
   "cell_type": "code",
   "execution_count": 151,
   "id": "6831da11",
   "metadata": {},
   "outputs": [],
   "source": [
    "from pymc3 import Model, Exponential\n",
    "\n",
    "with Model() as rainfall_model_exponential:\n",
    "    ealpha = Exponential('ealpha', 1/3.)\n",
    "    ebeta = Exponential('ebeta', 1/3.)"
   ]
  },
  {
   "cell_type": "code",
   "execution_count": 152,
   "id": "4a7a2f97",
   "metadata": {},
   "outputs": [],
   "source": [
    "from pymc3 import Gamma\n",
    "with rainfall_model_exponential:\n",
    "    april_like = Gamma('april_like', alpha=ealpha, beta=ebeta, observed=Annual_carbon_dioxide_emissions_values)"
   ]
  },
  {
   "cell_type": "code",
   "execution_count": 153,
   "id": "a29bea46",
   "metadata": {},
   "outputs": [
    {
     "data": {
      "text/html": [
       "\n",
       "<style>\n",
       "    /* Turns off some styling */\n",
       "    progress {\n",
       "        /* gets rid of default border in Firefox and Opera. */\n",
       "        border: none;\n",
       "        /* Needs to be in here for Safari polyfill so background images work as expected. */\n",
       "        background-size: auto;\n",
       "    }\n",
       "    progress:not([value]), progress:not([value])::-webkit-progress-bar {\n",
       "        background: repeating-linear-gradient(45deg, #7e7e7e, #7e7e7e 10px, #5c5c5c 10px, #5c5c5c 20px);\n",
       "    }\n",
       "    .progress-bar-interrupted, .progress-bar-interrupted::-webkit-progress-bar {\n",
       "        background: #F44336;\n",
       "    }\n",
       "</style>\n"
      ],
      "text/plain": [
       "<IPython.core.display.HTML object>"
      ]
     },
     "metadata": {},
     "output_type": "display_data"
    },
    {
     "data": {
      "text/html": [
       "\n",
       "    <div>\n",
       "      <progress value='10000' class='' max='10000' style='width:300px; height:20px; vertical-align: middle;'></progress>\n",
       "      100.00% [10000/10000 00:30&lt;00:00 Average Loss = 169.29]\n",
       "    </div>\n",
       "    "
      ],
      "text/plain": [
       "<IPython.core.display.HTML object>"
      ]
     },
     "metadata": {},
     "output_type": "display_data"
    },
    {
     "name": "stderr",
     "output_type": "stream",
     "text": [
      "Finished [100%]: Average Loss = 168.83\n"
     ]
    }
   ],
   "source": [
    "from pymc3 import fit\n",
    "\n",
    "with rainfall_model_exponential: \n",
    "    rainfall_trace_exponential = fit(random_seed=RANDOM_SEED).sample(1000)"
   ]
  },
  {
   "cell_type": "code",
   "execution_count": 154,
   "id": "5b7ca704",
   "metadata": {},
   "outputs": [
    {
     "data": {
      "text/plain": [
       "[<matplotlib.lines.Line2D at 0x18247793ca0>]"
      ]
     },
     "execution_count": 154,
     "metadata": {},
     "output_type": "execute_result"
    },
    {
     "data": {
      "image/png": "[encoded data removed]",
      "text/plain": [
       "<Figure size 432x288 with 1 Axes>"
      ]
     },
     "metadata": {
      "needs_background": "light"
     },
     "output_type": "display_data"
    }
   ],
   "source": [
    "from scipy.stats.distributions import gamma\n",
    "\n",
    "ealpha_posterior_mean = rainfall_trace_exponential['ealpha'].mean()\n",
    "ebeta_posterior_mean = rainfall_trace_exponential['ebeta'].mean()\n",
    "\n",
    "Annual_carbon_dioxide_emissions_values.hist(density=True, bins=10)\n",
    "plt.plot(x, gamma.pdf(x, ealpha_posterior_mean, ebeta_posterior_mean))"
   ]
  },
  {
   "cell_type": "code",
   "execution_count": null,
   "id": "97b43d71",
   "metadata": {},
   "outputs": [],
   "source": []
  },
  {
   "cell_type": "code",
   "execution_count": null,
   "id": "329230a2",
   "metadata": {},
   "outputs": [],
   "source": []
  }
 ],
 "metadata": {
  "kernelspec": {
   "display_name": "Python 3 (ipykernel)",
   "language": "python",
   "name": "python3"
  },
  "language_info": {
   "codemirror_mode": {
    "name": "ipython",
    "version": 3
   },
   "file_extension": ".py",
   "mimetype": "text/x-python",
   "name": "python",
   "nbconvert_exporter": "python",
   "pygments_lexer": "ipython3",
   "version": "3.9.12"
  }
 },
 "nbformat": 4,
 "nbformat_minor": 5
}
