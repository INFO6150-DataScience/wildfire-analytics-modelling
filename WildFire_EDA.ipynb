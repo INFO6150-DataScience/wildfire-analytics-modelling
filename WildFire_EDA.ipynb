{
 "cells": [
  {
   "cell_type": "markdown",
   "metadata": {},
   "source": [
    "Individual modelling of 3 datasets (alomost done)\n",
    "1. Come up with a relation of connecting 3 models (area burnt, co2 emitted, air pollution caused.)\n",
    "2. We need to come up with a relation/model of the amount of co2 released(tons) and air poluted(tons) but the area of land burnt(mil hectares) due to wild fire.\n",
    "3. Predicting and coming up with the solution like if x amount of land burnt is saved then, y amount of co2 releasing will be stopped and hence z amount of air pollution is reduced per year.\n",
    "4. Identifying the ways to reduce land burnt area in wildfires per year.\n",
    "5. We can do EDA"
   ]
  },
  {
   "cell_type": "code",
   "execution_count": null,
   "metadata": {},
   "outputs": [],
   "source": [
    "import numpy as np\n",
    "import pandas as pd\n",
    "pd.set_option('display.max_columns', None)  # Show all columns\n",
    "\n",
    "# Releasing memory\n",
    "import gc\n",
    "\n",
    "# Operating system interfaces\n",
    "import os\n",
    "\n",
    "# matplotlib and seaborn for visualization\n",
    "import matplotlib.pyplot as plt\n",
    "plt.rcParams['figure.dpi'] = 120  # High resolution figures\n",
    "plt.rcParams['figure.figsize'] = [8, 6]  # Size of figures\n",
    "\n",
    "import seaborn as sns\n",
    "sns.set_theme(style='darkgrid')  # Seaborn dark grid style for plots\n",
    "palette = sns.color_palette()  # Default color palette\n",
    "\n",
    "# Root directory for the dataset\n",
    "data_root = './data/'"
   ]
  },
  {
   "cell_type": "markdown",
   "metadata": {},
   "source": [
    "# EDA for the 3 Data Sets.\n",
    "These Datasets include Data from all the countries all over the world where the wildfire occur.\n",
    "The Data observed is related to: \n",
    "1. Area Burnt in wildfires from 2003 - 2024 (Unit: - Million Hectares)\n",
    "2. CO2 Emmissions due to wildfires from 2003 - 2024 (Unit: - Tonnes)\n",
    "3. PM2.5 Emmissions due to wildfires from 2003 - 2024 (Unit: - Tonnes)\n"
   ]
  },
  {
   "cell_type": "code",
   "execution_count": null,
   "metadata": {},
   "outputs": [],
   "source": [
    "# Paths for data files\n",
    "CO2EmmissionsAnnually_AllCountries_2003To2024_data = pd.read_csv(data_root + 'annual-carbon-dioxide-emissions.csv')\n",
    "PM25EmissionsAnnually_AllCountries_2003To2024_data = pd.read_csv(data_root + 'annual-pm25-emissions-from-wildfires.csv')\n",
    "AreaBurntAnnually_AllCountries_2012To2024_data = pd.read_csv(data_root + 'annual-area-burnt-per-wildfire.csv')"
   ]
  },
  {
   "cell_type": "markdown",
   "metadata": {},
   "source": [
    "#### Listing all the Countries in the Datasets"
   ]
  },
  {
   "cell_type": "code",
   "execution_count": null,
   "metadata": {},
   "outputs": [],
   "source": [
    "# Print the unique values of the \"Entity\" column\n",
    "unique_entities = CO2EmmissionsAnnually_AllCountries_2003To2024_data['Entity'].unique()\n",
    "print(\"Unique values of the Entity column:\")\n",
    "print(unique_entities)"
   ]
  },
  {
   "cell_type": "code",
   "execution_count": null,
   "metadata": {},
   "outputs": [],
   "source": [
    "# Print the unique values of the \"Entity\" column\n",
    "unique_entities = PM25EmissionsAnnually_AllCountries_2003To2024_data['Entity'].unique()\n",
    "print(\"Unique values of the Entity column:\")\n",
    "print(unique_entities)"
   ]
  },
  {
   "cell_type": "code",
   "execution_count": null,
   "metadata": {},
   "outputs": [],
   "source": [
    "# Print the unique values of the \"Entity\" column\n",
    "unique_entities = AreaBurntAnnually_AllCountries_2012To2024_data['Entity'].unique()\n",
    "print(\"Unique values of the Entity column:\")\n",
    "print(unique_entities)"
   ]
  },
  {
   "cell_type": "markdown",
   "metadata": {},
   "source": [
    "#### Summary of Each Dataframes"
   ]
  },
  {
   "cell_type": "code",
   "execution_count": null,
   "metadata": {},
   "outputs": [],
   "source": [
    "# Display summary of each dataframe\n",
    "print(\"Summary of CO2 Emissions Annually:\")\n",
    "print(CO2EmmissionsAnnually_AllCountries_2003To2024_data.info())"
   ]
  },
  {
   "cell_type": "code",
   "execution_count": null,
   "metadata": {},
   "outputs": [],
   "source": [
    "# Display summary of each dataframe\n",
    "print(\"Summary of PM25 Emissions Annually:\")\n",
    "print(PM25EmissionsAnnually_AllCountries_2003To2024_data.info())"
   ]
  },
  {
   "cell_type": "code",
   "execution_count": null,
   "metadata": {},
   "outputs": [],
   "source": [
    "# Display summary of each dataframe\n",
    "print(\"Summary of Area Burnt Annually:\")\n",
    "print(AreaBurntAnnually_AllCountries_2012To2024_data.info())"
   ]
  },
  {
   "cell_type": "code",
   "execution_count": null,
   "metadata": {},
   "outputs": [],
   "source": [
    "CO2EmmissionsAnnually_AllCountries_2003To2024_data['Annual_carbon_dioxide_emissions']= CO2EmmissionsAnnually_AllCountries_2003To2024_data['Annual_carbon_dioxide_emissions'].div(10**6)\n",
    "PM25EmissionsAnnually_AllCountries_2003To2024_data['Annual PM2.5 emissions from wildfires']= PM25EmissionsAnnually_AllCountries_2003To2024_data['Annual PM2.5 emissions from wildfires'].div(10**6)\n",
    "AreaBurntAnnually_AllCountries_2012To2024_data['Annual_Area_Burnt_per_Wildfire']= AreaBurntAnnually_AllCountries_2012To2024_data['Annual_Area_Burnt_per_Wildfire'].div(10**6)"
   ]
  },
  {
   "cell_type": "markdown",
   "metadata": {},
   "source": [
    "#### Summary Statics and Shape of the Dataframes"
   ]
  },
  {
   "cell_type": "code",
   "execution_count": null,
   "metadata": {},
   "outputs": [],
   "source": [
    "# CO2 Emissions Annually\n",
    "print(\"Summary statistics and shape of CO2 Emissions Annually:\")\n",
    "print(CO2EmmissionsAnnually_AllCountries_2003To2024_data['Annual_carbon_dioxide_emissions'].describe())\n",
    "print(\"\\n\\nShape of CO2 Emissions Annually:\", CO2EmmissionsAnnually_AllCountries_2003To2024_data.shape)"
   ]
  },
  {
   "cell_type": "code",
   "execution_count": null,
   "metadata": {},
   "outputs": [],
   "source": [
    "# PM25 Emissions Annually\n",
    "print(\"\\nSummary statistics and shape of PM25 Emissions Annually:\")\n",
    "print(PM25EmissionsAnnually_AllCountries_2003To2024_data['Annual PM2.5 emissions from wildfires'].describe())\n",
    "print(\"\\n\\nShape of PM25 Emissions Annually:\", PM25EmissionsAnnually_AllCountries_2003To2024_data.shape)"
   ]
  },
  {
   "cell_type": "code",
   "execution_count": null,
   "metadata": {},
   "outputs": [],
   "source": [
    "# Area Burnt Annually\n",
    "print(\"\\nSummary statistics and shape of Area Burnt Annually:\")\n",
    "print(AreaBurntAnnually_AllCountries_2012To2024_data['Annual_Area_Burnt_per_Wildfire'].describe())\n",
    "print(\"\\n\\nShape of Area Burnt Annually:\", AreaBurntAnnually_AllCountries_2012To2024_data.shape)"
   ]
  },
  {
   "cell_type": "markdown",
   "metadata": {},
   "source": [
    "# EDA for the 3 Data Sets. Country: United Stated.\n",
    "The Data observed is related to: \n",
    "1.  due to wildfires from 2003 - 2024 (Unit: - Tonnes)\n",
    "2. PM2.5 Emmissions due to wildfires from 2003 - 2024 (Unit: - Tonnes)\n",
    "3. Area Burnt in wildfires from 2003 - 2024 (Unit: - Million Hectares)"
   ]
  },
  {
   "cell_type": "markdown",
   "metadata": {},
   "source": [
    "### Flitering DF for United States Specific Data."
   ]
  },
  {
   "cell_type": "markdown",
   "metadata": {},
   "source": [
    "#### CO2 Emmissions"
   ]
  },
  {
   "cell_type": "code",
   "execution_count": null,
   "metadata": {},
   "outputs": [],
   "source": [
    "fliterCountry = 'United States'  # Replace 'United States' with the Country you want to filter by.\n",
    "CO2Emmissions_2003To2024_USA = CO2EmmissionsAnnually_AllCountries_2003To2024_data[CO2EmmissionsAnnually_AllCountries_2003To2024_data['Entity'] == fliterCountry]\n",
    "print(CO2Emmissions_2003To2024_USA)"
   ]
  },
  {
   "cell_type": "code",
   "execution_count": null,
   "metadata": {},
   "outputs": [],
   "source": [
    "# Display summary of each dataframe\n",
    "print(\"Summary of CO2 Emissions Annually:\")\n",
    "print(CO2Emmissions_2003To2024_USA.info())\n",
    "\n",
    "# Removing year 2024 data because it is not for complete year.\n",
    "CO2Emmissions_2003To2023_USA = CO2Emmissions_2003To2024_USA[:-1]\n",
    "\n",
    "# CO2 Emissions Annually\n",
    "print(\"\\n\\nSummary statistics and shape of CO2 Emissions Annually:\")\n",
    "print(CO2Emmissions_2003To2023_USA['Annual_carbon_dioxide_emissions'].describe())\n",
    "print(\"\\n\\nShape of CO2 Emissions Annually:\", CO2Emmissions_2003To2023_USA.shape)"
   ]
  },
  {
   "cell_type": "code",
   "execution_count": null,
   "metadata": {},
   "outputs": [],
   "source": [
    "# Calculate percentage change between consecutive years\n",
    "CO2Emmissions_2003To2023_USA['Percentage_Change'] = CO2Emmissions_2003To2023_USA['Annual_carbon_dioxide_emissions'].pct_change() * 100\n",
    "\n",
    "# Print the DataFrame with percentage change\n",
    "print(CO2Emmissions_2003To2023_USA)"
   ]
  },
  {
   "cell_type": "markdown",
   "metadata": {},
   "source": [
    "### CO2 Emissions\n",
    "### Plotting Stuff"
   ]
  },
  {
   "cell_type": "code",
   "execution_count": null,
   "metadata": {},
   "outputs": [],
   "source": [
    "# Convert years and emissions to numpy arrays\n",
    "years = np.array(CO2Emmissions_2003To2023_USA['Year'])\n",
    "emissions = np.array(CO2Emmissions_2003To2023_USA['Annual_carbon_dioxide_emissions'])\n",
    "\n",
    "# Create figure and subplots\n",
    "fig, (ax1, ax2, ax3) = plt.subplots(3, 1, figsize=(8, 12))\n",
    "\n",
    "# Plotting histogram\n",
    "ax1.hist(emissions, bins=20, color='green', edgecolor='black')\n",
    "ax1.set_title('Histogram of Annual CO2 Emissions (2003-2023) in the United States')\n",
    "ax1.set_xlabel('Annual CO2 Emissions')\n",
    "ax1.set_ylabel('CO2 Emissions (Tonnes)')\n",
    "ax1.grid(True)\n",
    "\n",
    "# Plotting line plot\n",
    "ax2.plot(years, emissions, marker='o', linestyle='-', color='green')\n",
    "ax2.set_title('CO2 Emissions per Year (2003-2023) in the United States')\n",
    "ax2.set_xlabel('Year')\n",
    "ax2.set_ylabel('CO2 Emissions (Tonnes)')\n",
    "ax2.grid(True)\n",
    "ax2.set_xticks(years)\n",
    "ax2.set_xticklabels(years, rotation=45)\n",
    "\n",
    "# Adding box plot for CO2 emissions\n",
    "sns.boxplot(data=emissions, ax=ax3, color='green')\n",
    "ax3.set_title('Box Plot of Annual CO2 Emissions (2003-2023) in the United States')\n",
    "ax3.set_xlabel('Annual CO2 Emissions')\n",
    "ax3.set_ylabel('CO2 Emissions (Tonnes)')\n",
    "ax3.grid(True)\n",
    "\n",
    "# Adjust layout and show plot\n",
    "plt.tight_layout()\n",
    "plt.show()"
   ]
  },
  {
   "cell_type": "markdown",
   "metadata": {},
   "source": [
    "#### PM2.5 Emissions"
   ]
  },
  {
   "cell_type": "code",
   "execution_count": null,
   "metadata": {},
   "outputs": [],
   "source": [
    "fliterCountry = 'United States'  # Replace 'United States' with the Country you want to filter by.\n",
    "PM25Emissions_2003To2024_USA = PM25EmissionsAnnually_AllCountries_2003To2024_data[PM25EmissionsAnnually_AllCountries_2003To2024_data['Entity'] == fliterCountry]\n",
    "print(PM25Emissions_2003To2024_USA)"
   ]
  },
  {
   "cell_type": "code",
   "execution_count": null,
   "metadata": {},
   "outputs": [],
   "source": [
    "# Display summary of each dataframe\n",
    "print(\"Summary of PM25 Emissions Annually:\")\n",
    "print(PM25Emissions_2003To2024_USA.info())\n",
    "\n",
    "# Removing year 2024 data because it is not for complete year.\n",
    "PM25Emissions_2003To2023_USA = PM25Emissions_2003To2024_USA[:-1]\n",
    "\n",
    "# PM25 Emissions Annually\n",
    "print(\"\\nSummary statistics and shape of PM25 Emissions Annually:\")\n",
    "print(PM25Emissions_2003To2023_USA['Annual PM2.5 emissions from wildfires'].describe())\n",
    "print(\"\\n\\nShape of PM25 Emissions Annually:\", PM25Emissions_2003To2023_USA.shape)"
   ]
  },
  {
   "cell_type": "code",
   "execution_count": null,
   "metadata": {},
   "outputs": [],
   "source": [
    "# Calculate percentage change between consecutive years\n",
    "PM25Emissions_2003To2023_USA['Percentage_Change'] = PM25Emissions_2003To2023_USA['Annual PM2.5 emissions from wildfires'].pct_change() * 100\n",
    "\n",
    "# Print the DataFrame with percentage change\n",
    "print(PM25Emissions_2003To2023_USA)"
   ]
  },
  {
   "cell_type": "markdown",
   "metadata": {},
   "source": [
    "### PM2.5 Emissions\n",
    "### Plotting Stuff"
   ]
  },
  {
   "cell_type": "code",
   "execution_count": null,
   "metadata": {},
   "outputs": [],
   "source": [
    "# Convert years and emissions to numpy arrays\n",
    "years = np.array(PM25Emissions_2003To2023_USA['Year'])\n",
    "emissions = np.array(PM25Emissions_2003To2023_USA['Annual PM2.5 emissions from wildfires'])\n",
    "\n",
    "# Create figure and subplots\n",
    "fig, (ax1, ax2, ax3) = plt.subplots(3, 1, figsize=(8, 12))\n",
    "\n",
    "# Plotting histogram\n",
    "ax1.hist(emissions, bins=20, color='red', edgecolor='black')\n",
    "ax1.set_title('Histogram of Annual PM2.5 Emissions (2003-2023) in the United States')\n",
    "ax1.set_xlabel('Annual PM2.5 Emissions')\n",
    "ax1.set_ylabel('PM2.5 Emissions (Tonnes)')\n",
    "ax1.grid(True)\n",
    "\n",
    "# Plotting line plot\n",
    "ax2.plot(years, emissions, marker='o', linestyle='-', color='red')\n",
    "ax2.set_title('Line plot of Annual PM2.5 Emissions (2003-2023) in the United States')\n",
    "ax2.set_xlabel('Year')\n",
    "ax2.set_ylabel('PM2.5 Emissions (Tonnes)')\n",
    "ax2.grid(True)\n",
    "ax2.set_xticks(years)\n",
    "ax2.set_xticklabels(years, rotation=45)\n",
    "\n",
    "# Adding box plot for PM2.5 emissions\n",
    "sns.boxplot(data=emissions, ax=ax3, color='red')\n",
    "ax3.set_title('Box Plot of Annual PM2.5 Emissions (2003-2023) in the United States')\n",
    "ax3.set_xlabel('Annual PM2.5 Emissions')\n",
    "ax3.set_ylabel('PM2.5 Emissions (Tonnes)')\n",
    "ax3.grid(True)\n",
    "\n",
    "# Adjust layout and show plot\n",
    "plt.tight_layout()\n",
    "plt.show()\n"
   ]
  },
  {
   "cell_type": "markdown",
   "metadata": {},
   "source": [
    "#### Area Burnt"
   ]
  },
  {
   "cell_type": "code",
   "execution_count": null,
   "metadata": {},
   "outputs": [],
   "source": [
    "fliterCountry = 'United States'  # Replace 'United States' with the Country you want to filter by.\n",
    "AreaBurnt_2003To2024_USA = AreaBurntAnnually_AllCountries_2012To2024_data[AreaBurntAnnually_AllCountries_2012To2024_data['Entity'] == fliterCountry]\n",
    "print(AreaBurnt_2003To2024_USA)"
   ]
  },
  {
   "cell_type": "code",
   "execution_count": null,
   "metadata": {},
   "outputs": [],
   "source": [
    "# Display summary of each dataframe\n",
    "print(\"Summary of Area Burnt Annually:\")\n",
    "print(AreaBurnt_2003To2024_USA.info())\n",
    "\n",
    "# Removing year 2024 data because it is not for complete year.\n",
    "AreaBurnt_2003To2023_USA = AreaBurnt_2003To2024_USA[:-1]\n",
    "\n",
    "# Area Burnt Annually\n",
    "print(\"\\nSummary statistics and shape of Area Burnt Annually:\")\n",
    "print(AreaBurnt_2003To2023_USA['Annual_Area_Burnt_per_Wildfire'].describe())\n",
    "print(\"\\n\\nShape of Area Burnt Annually:\", AreaBurnt_2003To2023_USA.shape)"
   ]
  },
  {
   "cell_type": "code",
   "execution_count": null,
   "metadata": {},
   "outputs": [],
   "source": [
    "# Calculate percentage change between consecutive years\n",
    "AreaBurnt_2003To2023_USA['Percentage_Change'] = AreaBurnt_2003To2023_USA['Annual_Area_Burnt_per_Wildfire'].pct_change() * 100\n",
    "\n",
    "# Print the DataFrame with percentage change\n",
    "print(AreaBurnt_2003To2023_USA)"
   ]
  },
  {
   "cell_type": "markdown",
   "metadata": {},
   "source": [
    "### Area Burnt\n",
    "### Plotting Stuff"
   ]
  },
  {
   "cell_type": "code",
   "execution_count": null,
   "metadata": {},
   "outputs": [],
   "source": [
    "# Convert years and emissions to numpy arrays\n",
    "years = np.array(AreaBurnt_2003To2023_USA['Year'])\n",
    "emissions = np.array(AreaBurnt_2003To2023_USA['Annual_Area_Burnt_per_Wildfire'])\n",
    "\n",
    "# Create figure and subplots\n",
    "fig, (ax1, ax2, ax3) = plt.subplots(3, 1, figsize=(8, 12))\n",
    "\n",
    "# Plotting histogram\n",
    "ax1.hist(emissions, bins=12, color='purple', edgecolor='black')\n",
    "ax1.set_title('Histogram of Annual Area Burnt per Wildfire (2012-2023) in the United States')\n",
    "ax1.set_xlabel('Annual Area Burnt per Wildfire')\n",
    "ax1.set_ylabel('Area Burnt per Wildfire (mil hectares)')\n",
    "ax1.grid(True)\n",
    "\n",
    "# Plotting line plot\n",
    "ax2.plot(years, emissions, marker='o', linestyle='-', color='purple')\n",
    "ax2.set_title('Line plot Annual Area Burnt per Wildfire (2012-2023) in the United States')\n",
    "ax2.set_xlabel('Year')\n",
    "ax2.set_ylabel('Area Burnt per Wildfire (mil hectares)')\n",
    "ax2.grid(True)\n",
    "ax2.set_xticks(years)\n",
    "ax2.set_xticklabels(years, rotation=45)\n",
    "\n",
    "# Adding box plot for Area Burnt per Wildfire\n",
    "sns.boxplot(data=emissions, ax=ax3, color='purple')\n",
    "ax3.set_title('Box Plot of Annual Area Burnt per Wildfire (2012-2023) in the United States')\n",
    "ax3.set_xlabel('Annual Area Burnt per Wildfire')\n",
    "ax3.set_ylabel('Area Burnt per Wildfire (mil hectares)')\n",
    "ax3.grid(True)\n",
    "\n",
    "# Adjust layout and show plot\n",
    "plt.tight_layout()\n",
    "plt.show()"
   ]
  },
  {
   "cell_type": "markdown",
   "metadata": {},
   "source": [
    "### Flitering DF for India Specific Data."
   ]
  },
  {
   "cell_type": "markdown",
   "metadata": {},
   "source": [
    "#### CO2 Emissions"
   ]
  },
  {
   "cell_type": "code",
   "execution_count": null,
   "metadata": {},
   "outputs": [],
   "source": [
    "fliterCountry = 'India'  # Replace 'India' with the Country you want to filter by.\n",
    "CO2Emmissions_2003To2024_IND = CO2EmmissionsAnnually_AllCountries_2003To2024_data[CO2EmmissionsAnnually_AllCountries_2003To2024_data['Entity'] == fliterCountry]\n",
    "print(CO2Emmissions_2003To2024_IND)"
   ]
  },
  {
   "cell_type": "code",
   "execution_count": null,
   "metadata": {},
   "outputs": [],
   "source": [
    "# Display summary of each dataframe\n",
    "print(\"Summary of CO2 Emissions Annually:\")\n",
    "print(CO2Emmissions_2003To2024_IND.info())\n",
    "\n",
    "# Removing year 2024 data because it is not for complete year.\n",
    "CO2Emmissions_2003To2023_IND =CO2Emmissions_2003To2024_IND[:-1]\n",
    "\n",
    "# CO2 Emissions Annually\n",
    "print(\"\\n\\nSummary statistics and shape of CO2 Emissions Annually:\")\n",
    "print(CO2Emmissions_2003To2023_IND['Annual_carbon_dioxide_emissions'].describe())\n",
    "print(\"\\n\\nShape of CO2 Emissions Annually:\", CO2Emmissions_2003To2023_IND.shape)"
   ]
  },
  {
   "cell_type": "code",
   "execution_count": null,
   "metadata": {},
   "outputs": [],
   "source": [
    "# Calculate percentage change between consecutive years\n",
    "CO2Emmissions_2003To2023_IND['Percentage_Change'] = CO2Emmissions_2003To2023_IND['Annual_carbon_dioxide_emissions'].pct_change() * 100\n",
    "\n",
    "# Print the DataFrame with percentage change\n",
    "print(CO2Emmissions_2003To2023_IND)"
   ]
  },
  {
   "cell_type": "markdown",
   "metadata": {},
   "source": [
    "### CO2 Emissions\n",
    "### Plotting Stuff"
   ]
  },
  {
   "cell_type": "code",
   "execution_count": null,
   "metadata": {},
   "outputs": [],
   "source": [
    "# Convert years and emissions to numpy arrays\n",
    "years = np.array(CO2Emmissions_2003To2023_IND['Year'])\n",
    "emissions = np.array(CO2Emmissions_2003To2023_IND['Annual_carbon_dioxide_emissions'])\n",
    "\n",
    "# Create figure and subplots\n",
    "fig, (ax1, ax2, ax3) = plt.subplots(3, 1, figsize=(8, 12))\n",
    "\n",
    "# Plotting histogram\n",
    "ax1.hist(emissions, bins=20, color='green', edgecolor='black')\n",
    "ax1.set_title('Histogram of Annual CO2 Emissions (2003-2023) in India')\n",
    "ax1.set_xlabel('Annual CO2 Emissions')\n",
    "ax1.set_ylabel('CO2 Emissions (Tonnes)')\n",
    "ax1.grid(True)\n",
    "\n",
    "# Plotting line plot\n",
    "ax2.plot(years, emissions, marker='o', linestyle='-', color='green')\n",
    "ax2.set_title('Line plot CO2 Emissions per Year (2003-2023) in India')\n",
    "ax2.set_xlabel('Year')\n",
    "ax2.set_ylabel('CO2 Emissions (Tonnes)')\n",
    "ax2.grid(True)\n",
    "ax2.set_xticks(years)\n",
    "ax2.set_xticklabels(years, rotation=45)\n",
    "\n",
    "# Adding box plot for CO2 emissions\n",
    "sns.boxplot(data=emissions, ax=ax3, color='green')\n",
    "ax3.set_title('Box Plot of Annual CO2 Emissions (2003-2023) in India')\n",
    "ax3.set_xlabel('Annual CO2 Emissions')\n",
    "ax3.set_ylabel('CO2 Emissions (Tonnes)')\n",
    "ax3.grid(True)\n",
    "\n",
    "# Adjust layout and show plot\n",
    "plt.tight_layout()\n",
    "plt.show()"
   ]
  },
  {
   "cell_type": "markdown",
   "metadata": {},
   "source": [
    "#### PM2.5 Emissions"
   ]
  },
  {
   "cell_type": "code",
   "execution_count": null,
   "metadata": {},
   "outputs": [],
   "source": [
    "fliterCountry = 'India'  # Replace 'India' with the Country you want to filter by.\n",
    "PM25Emissions_2003To2024_IND = PM25EmissionsAnnually_AllCountries_2003To2024_data[PM25EmissionsAnnually_AllCountries_2003To2024_data['Entity'] == fliterCountry]\n",
    "print(PM25Emissions_2003To2024_IND)"
   ]
  },
  {
   "cell_type": "code",
   "execution_count": null,
   "metadata": {},
   "outputs": [],
   "source": [
    "# Display summary of each dataframe\n",
    "print(\"Summary of PM25 Emissions Annually:\")\n",
    "print(PM25Emissions_2003To2024_IND.info())\n",
    "\n",
    "# Removing year 2024 data because it is not for complete year.\n",
    "PM25Emissions_2003To2023_IND = PM25Emissions_2003To2024_IND[:-1]\n",
    "\n",
    "# PM25 Emissions Annually\n",
    "print(\"\\nSummary statistics and shape of PM25 Emissions Annually:\")\n",
    "print(PM25Emissions_2003To2023_IND['Annual PM2.5 emissions from wildfires'].describe())\n",
    "print(\"\\n\\nShape of PM25 Emissions Annually:\", PM25Emissions_2003To2023_IND.shape)"
   ]
  },
  {
   "cell_type": "code",
   "execution_count": null,
   "metadata": {},
   "outputs": [],
   "source": [
    "# Calculate percentage change between consecutive years\n",
    "PM25Emissions_2003To2023_IND['Percentage_Change'] = PM25Emissions_2003To2023_IND['Annual PM2.5 emissions from wildfires'].pct_change() * 100\n",
    "\n",
    "# Print the DataFrame with percentage change\n",
    "print(PM25Emissions_2003To2023_IND)"
   ]
  },
  {
   "cell_type": "markdown",
   "metadata": {},
   "source": [
    "### PM2.5 Emissions\n",
    "### Plotting Stuff"
   ]
  },
  {
   "cell_type": "code",
   "execution_count": null,
   "metadata": {},
   "outputs": [],
   "source": [
    "# Convert years and emissions to numpy arrays\n",
    "years = np.array(PM25Emissions_2003To2023_IND['Year'])\n",
    "emissions = np.array(PM25Emissions_2003To2023_IND['Annual PM2.5 emissions from wildfires'])\n",
    "\n",
    "# Create figure and subplots\n",
    "fig, (ax1, ax2, ax3) = plt.subplots(3, 1, figsize=(8, 12))\n",
    "\n",
    "# Plotting histogram\n",
    "ax1.hist(emissions, bins=20, color='red', edgecolor='black')\n",
    "ax1.set_title('Histogram of Annual PM2.5 Emissions (2003-2023) in India')\n",
    "ax1.set_xlabel('Annual PM2.5 Emissions')\n",
    "ax1.set_ylabel('PM2.5 Emissions (Tonnes)')\n",
    "ax1.grid(True)\n",
    "\n",
    "# Plotting line plot\n",
    "ax2.plot(years, emissions, marker='o', linestyle='-', color='red')\n",
    "ax2.set_title('PM2.5 Emissions per Year (2003-2023) in India')\n",
    "ax2.set_xlabel('Year')\n",
    "ax2.set_ylabel('PM2.5 Emissions (Tonnes)')\n",
    "ax2.grid(True)\n",
    "ax2.set_xticks(years)\n",
    "ax2.set_xticklabels(years, rotation=45)\n",
    "\n",
    "# Adding box plot for PM2.5 emissions\n",
    "sns.boxplot(data=emissions, ax=ax3, color='red')\n",
    "ax3.set_title('Box Plot of Annual PM2.5 Emissions (2003-2023) in India')\n",
    "ax3.set_xlabel('Annual PM2.5 Emissions')\n",
    "ax3.set_ylabel('PM2.5 Emissions (Tonnes)')\n",
    "ax3.grid(True)\n",
    "\n",
    "# Adjust layout and show plot\n",
    "plt.tight_layout()\n",
    "plt.show()"
   ]
  },
  {
   "cell_type": "markdown",
   "metadata": {},
   "source": [
    "#### Area Burnt"
   ]
  },
  {
   "cell_type": "code",
   "execution_count": null,
   "metadata": {},
   "outputs": [],
   "source": [
    "fliterCountry = 'India'  # Replace 'India' with the Country you want to filter by.\n",
    "AreaBurnt_2003To2024_IND = AreaBurntAnnually_AllCountries_2012To2024_data[AreaBurntAnnually_AllCountries_2012To2024_data['Entity'] == fliterCountry]\n",
    "print(AreaBurnt_2003To2024_IND)"
   ]
  },
  {
   "cell_type": "code",
   "execution_count": null,
   "metadata": {},
   "outputs": [],
   "source": [
    "# Display summary of each dataframe\n",
    "print(\"Summary of Area Burnt Annually:\")\n",
    "print(AreaBurnt_2003To2024_IND.info())\n",
    "\n",
    "# Removing year 2024 data because it is not for complete year.\n",
    "AreaBurnt_2003To2023_IND = AreaBurnt_2003To2024_IND[:-1]\n",
    "\n",
    "# Area Burnt Annually\n",
    "print(\"\\nSummary statistics and shape of Area Burnt Annually:\")\n",
    "print(AreaBurnt_2003To2023_IND['Annual_Area_Burnt_per_Wildfire'].describe())\n",
    "print(\"\\n\\nShape of Area Burnt Annually:\", AreaBurnt_2003To2023_IND.shape)"
   ]
  },
  {
   "cell_type": "code",
   "execution_count": null,
   "metadata": {},
   "outputs": [],
   "source": [
    "# Calculate percentage change between consecutive years\n",
    "AreaBurnt_2003To2023_IND['Percentage_Change'] = AreaBurnt_2003To2023_IND['Annual_Area_Burnt_per_Wildfire'].pct_change() * 100\n",
    "\n",
    "# Print the DataFrame with percentage change\n",
    "print(AreaBurnt_2003To2023_IND)"
   ]
  },
  {
   "cell_type": "markdown",
   "metadata": {},
   "source": [
    "### Area Burnt\n",
    "### Plotting Stuff"
   ]
  },
  {
   "cell_type": "code",
   "execution_count": null,
   "metadata": {},
   "outputs": [],
   "source": [
    "# Convert years and emissions to numpy arrays\n",
    "years = np.array(AreaBurnt_2003To2023_IND['Year'])\n",
    "emissions = np.array(AreaBurnt_2003To2023_IND['Annual_Area_Burnt_per_Wildfire'])\n",
    "\n",
    "# Create figure and subplots\n",
    "fig, (ax1, ax2, ax3) = plt.subplots(3, 1, figsize=(8, 12))\n",
    "\n",
    "# Plotting histogram\n",
    "ax1.hist(emissions, bins=20, color='purple', edgecolor='black')\n",
    "ax1.set_title('Histogram of Annual Area Burnt per Wildfire (2003-2024) in India')\n",
    "ax1.set_xlabel('Annual Area Burnt')\n",
    "ax1.set_ylabel('Annual Area Burnt (mil Hectares)')\n",
    "ax1.grid(True)\n",
    "\n",
    "# Plotting line plot\n",
    "ax2.plot(years, emissions, marker='o', linestyle='-', color='purple')\n",
    "ax2.set_title('Annual Area Burnt per Wildfire (2003-2023) in India')\n",
    "ax2.set_xlabel('Year')\n",
    "ax2.set_ylabel('Annual Area Burnt (mil Hectares)')\n",
    "ax2.grid(True)\n",
    "ax2.set_xticks(years)\n",
    "ax2.set_xticklabels(years, rotation=45)\n",
    "\n",
    "# Adding box plot for annual area burnt\n",
    "sns.boxplot(data=emissions, ax=ax3, color='purple')\n",
    "ax3.set_title('Box Plot of Annual Area Burnt per Wildfire (2003-2024) in India')\n",
    "ax3.set_xlabel('Annual Area Burnt')\n",
    "ax3.set_ylabel('Annual Area Burnt (mil Hectares)')\n",
    "ax3.grid(True)\n",
    "\n",
    "# Adjust layout and show plot\n",
    "plt.tight_layout()\n",
    "plt.show()"
   ]
  },
  {
   "cell_type": "markdown",
   "metadata": {},
   "source": [
    "### Flitering DF for World Specific Data."
   ]
  },
  {
   "cell_type": "markdown",
   "metadata": {},
   "source": [
    "#### CO2 Emissions"
   ]
  },
  {
   "cell_type": "code",
   "execution_count": null,
   "metadata": {},
   "outputs": [],
   "source": [
    "fliterCountry = 'World'  # Replace 'World' with the Country you want to filter by.\n",
    "CO2Emmissions_2003To2024_OWID_WRL = CO2EmmissionsAnnually_AllCountries_2003To2024_data[CO2EmmissionsAnnually_AllCountries_2003To2024_data['Entity'] == fliterCountry]\n",
    "print(CO2Emmissions_2003To2024_OWID_WRL)"
   ]
  },
  {
   "cell_type": "code",
   "execution_count": null,
   "metadata": {},
   "outputs": [],
   "source": [
    "# Display summary of each dataframe\n",
    "print(\"Summary of CO2 Emissions Annually:\")\n",
    "print(CO2Emmissions_2003To2024_OWID_WRL.info())\n",
    "\n",
    "# Removing year 2024 data because it is not for complete year.\n",
    "CO2Emmissions_2003To2023_OWID_WRL = CO2Emmissions_2003To2024_OWID_WRL[:-1]\n",
    "\n",
    "# CO2 Emissions Annually\n",
    "print(\"\\n\\nSummary statistics and shape of CO2 Emissions Annually:\")\n",
    "print(CO2Emmissions_2003To2023_OWID_WRL['Annual_carbon_dioxide_emissions'].describe())\n",
    "print(\"\\n\\nShape of CO2 Emissions Annually:\", CO2Emmissions_2003To2023_OWID_WRL.shape)"
   ]
  },
  {
   "cell_type": "code",
   "execution_count": null,
   "metadata": {},
   "outputs": [],
   "source": [
    "# Calculate percentage change between consecutive years\n",
    "CO2Emmissions_2003To2023_OWID_WRL['Percentage_Change'] = CO2Emmissions_2003To2023_OWID_WRL['Annual_carbon_dioxide_emissions'].pct_change() * 100\n",
    "\n",
    "# Print the DataFrame with percentage change\n",
    "print(CO2Emmissions_2003To2023_OWID_WRL)"
   ]
  },
  {
   "cell_type": "markdown",
   "metadata": {},
   "source": [
    "### CO2 Emissions\n",
    "### Plotting Stuff"
   ]
  },
  {
   "cell_type": "code",
   "execution_count": null,
   "metadata": {},
   "outputs": [],
   "source": [
    "# Convert years and emissions to numpy arrays\n",
    "years = np.array(CO2Emmissions_2003To2023_OWID_WRL['Year'])\n",
    "emissions = np.array(CO2Emmissions_2003To2023_OWID_WRL['Annual_carbon_dioxide_emissions'])\n",
    "\n",
    "# Create figure and subplots\n",
    "fig, (ax1, ax2, ax3) = plt.subplots(3, 1, figsize=(8, 12))\n",
    "\n",
    "# Plotting histogram\n",
    "ax1.hist(emissions, bins=20, color='green', edgecolor='black')\n",
    "ax1.set_title('Histogram of Annual CO2 Emissions (2003-2023) in the World')\n",
    "ax1.set_xlabel('Annual CO2 Emissions')\n",
    "ax1.set_ylabel('CO2 Emissions (Tonnes)')\n",
    "ax1.grid(True)\n",
    "\n",
    "# Plotting line plot\n",
    "ax2.plot(years, emissions, marker='o', linestyle='-', color='green')\n",
    "ax2.set_title('CO2 Emissions per Year (2003-2023) in the World')\n",
    "ax2.set_xlabel('Year')\n",
    "ax2.set_ylabel('CO2 Emissions (Tonnes)')\n",
    "ax2.grid(True)\n",
    "ax2.set_xticks(years)\n",
    "ax2.set_xticklabels(years, rotation=45)\n",
    "\n",
    "# Adding box plot for CO2 emissions\n",
    "sns.boxplot(data=emissions, ax=ax3, color='green')\n",
    "ax3.set_title('Box Plot of Annual CO2 Emissions (2003-2023) in the World')\n",
    "ax3.set_xlabel('Annual CO2 Emissions')\n",
    "ax3.set_ylabel('CO2 Emissions (Tonnes)')\n",
    "ax3.grid(True)\n",
    "\n",
    "# Adjust layout and show plot\n",
    "plt.tight_layout()\n",
    "plt.show()"
   ]
  },
  {
   "cell_type": "markdown",
   "metadata": {},
   "source": [
    "#### PM2.5 Emissions"
   ]
  },
  {
   "cell_type": "code",
   "execution_count": null,
   "metadata": {},
   "outputs": [],
   "source": [
    "fliterCountry = 'World'  # Replace 'World' with the Country you want to filter by.\n",
    "PM25Emissions_2003To2024_OWID_WRL = PM25EmissionsAnnually_AllCountries_2003To2024_data[PM25EmissionsAnnually_AllCountries_2003To2024_data['Entity'] == fliterCountry]\n",
    "print(PM25Emissions_2003To2024_OWID_WRL)"
   ]
  },
  {
   "cell_type": "code",
   "execution_count": null,
   "metadata": {},
   "outputs": [],
   "source": [
    "# Display summary of each dataframe\n",
    "print(\"Summary of PM25 Emissions Annually:\")\n",
    "print(PM25Emissions_2003To2024_OWID_WRL.info())\n",
    "\n",
    "# Removing year 2024 data because it is not for complete year.\n",
    "PM25Emissions_2003To2023_OWID_WRL = PM25Emissions_2003To2024_OWID_WRL[:-1]\n",
    "\n",
    "# PM25 Emissions Annually\n",
    "print(\"\\nSummary statistics and shape of PM25 Emissions Annually:\")\n",
    "print(PM25Emissions_2003To2023_OWID_WRL['Annual PM2.5 emissions from wildfires'].describe())\n",
    "print(\"\\n\\nShape of PM25 Emissions Annually:\", PM25Emissions_2003To2023_OWID_WRL.shape)"
   ]
  },
  {
   "cell_type": "code",
   "execution_count": null,
   "metadata": {},
   "outputs": [],
   "source": [
    "# Calculate percentage change between consecutive years\n",
    "PM25Emissions_2003To2023_OWID_WRL['Percentage_Change'] = PM25Emissions_2003To2023_OWID_WRL['Annual PM2.5 emissions from wildfires'].pct_change() * 100\n",
    "\n",
    "# Print the DataFrame with percentage change\n",
    "print(PM25Emissions_2003To2023_OWID_WRL)"
   ]
  },
  {
   "cell_type": "markdown",
   "metadata": {},
   "source": [
    "### PM2.5 Emissions\n",
    "### Plotting Stuff"
   ]
  },
  {
   "cell_type": "code",
   "execution_count": null,
   "metadata": {},
   "outputs": [],
   "source": [
    "# Convert years and emissions to numpy arrays for World PM2.5 emissions\n",
    "years_world = np.array(PM25Emissions_2003To2023_OWID_WRL['Year'])\n",
    "emissions_world = np.array(PM25Emissions_2003To2023_OWID_WRL['Annual PM2.5 emissions from wildfires'])\n",
    "\n",
    "# Create figure and subplots\n",
    "fig, (ax1, ax2, ax3) = plt.subplots(3, 1, figsize=(8, 12))\n",
    "\n",
    "# Plotting histogram of World PM2.5 emissions\n",
    "ax1.hist(emissions_world, bins=20, color='red', edgecolor='black')\n",
    "ax1.set_title('Histogram of Annual PM2.5 Emissions (2003-2023) in the World')\n",
    "ax1.set_xlabel('Annual PM2.5 Emissions')\n",
    "ax1.set_ylabel('PM2.5 Emission (Tonnes)')\n",
    "ax1.grid(True)\n",
    "\n",
    "# Plotting line plot of India PM2.5 emissions\n",
    "ax2.plot(years_india, emissions_india, marker='o', linestyle='-', color='red')\n",
    "ax2.set_title('PM2.5 Emissions per Year (2003-2023) in India')\n",
    "ax2.set_xlabel('Year')\n",
    "ax2.set_ylabel('PM2.5 Emissions (Tonnes)')\n",
    "ax2.grid(True)\n",
    "ax2.set_xticks(years_india)\n",
    "ax2.set_xticklabels(years_india, rotation=45)\n",
    "\n",
    "# Adding box plot for World PM2.5 emissions\n",
    "sns.boxplot(data=emissions_world, ax=ax3, color='red')\n",
    "ax3.set_title('Box Plot of Annual PM2.5 Emissions (2003-2023) in the World')\n",
    "ax3.set_xlabel('Annual PM2.5 Emissions')\n",
    "ax3.set_ylabel('PM2.5 Emissions (Tonnes)')\n",
    "ax3.grid(True)\n",
    "\n",
    "# Adjust layout and show plot\n",
    "plt.tight_layout()\n",
    "plt.show()"
   ]
  },
  {
   "cell_type": "markdown",
   "metadata": {},
   "source": [
    "#### Area Burnt"
   ]
  },
  {
   "cell_type": "code",
   "execution_count": null,
   "metadata": {},
   "outputs": [],
   "source": [
    "fliterCountry = 'World'  # Replace 'World' with the Country you want to filter by.\n",
    "AreaBurnt_2003To2024_OWID_WRL = AreaBurntAnnually_AllCountries_2012To2024_data[AreaBurntAnnually_AllCountries_2012To2024_data['Entity'] == fliterCountry]\n",
    "print(AreaBurnt_2003To2024_OWID_WRL)"
   ]
  },
  {
   "cell_type": "code",
   "execution_count": null,
   "metadata": {},
   "outputs": [],
   "source": [
    "# Display summary of each dataframe\n",
    "print(\"Summary of Area Burnt Annually:\")\n",
    "print(AreaBurnt_2003To2024_OWID_WRL.info())\n",
    "\n",
    "# Removing year 2024 data because it is not for complete year.\n",
    "AreaBurnt_2003To2023_OWID_WRL = AreaBurnt_2003To2024_OWID_WRL[:-1]\n",
    "\n",
    "# Area Burnt Annually\n",
    "print(\"\\nSummary statistics and shape of Area Burnt Annually:\")\n",
    "print(AreaBurnt_2003To2023_OWID_WRL['Annual_Area_Burnt_per_Wildfire'].describe())\n",
    "print(\"\\n\\nShape of Area Burnt Annually:\", AreaBurnt_2003To2023_OWID_WRL.shape)"
   ]
  },
  {
   "cell_type": "code",
   "execution_count": null,
   "metadata": {},
   "outputs": [],
   "source": [
    "# Calculate percentage change between consecutive years\n",
    "AreaBurnt_2003To2023_OWID_WRL['Percentage_Change'] = AreaBurnt_2003To2023_OWID_WRL['Annual_Area_Burnt_per_Wildfire'].pct_change() * 100\n",
    "\n",
    "# Print the DataFrame with percentage change\n",
    "print(AreaBurnt_2003To2023_OWID_WRL)"
   ]
  },
  {
   "cell_type": "markdown",
   "metadata": {},
   "source": [
    "### Area Burnt\n",
    "### Plotting Stuff"
   ]
  },
  {
   "cell_type": "code",
   "execution_count": null,
   "metadata": {},
   "outputs": [],
   "source": [
    "# Convert years and emissions to numpy arrays for World Area Burnt per Wildfire\n",
    "years_world = np.array(AreaBurnt_2003To2023_OWID_WRL['Year'])\n",
    "emissions_world = np.array(AreaBurnt_2003To2023_OWID_WRL['Annual_Area_Burnt_per_Wildfire'])\n",
    "\n",
    "# Create figure and subplots\n",
    "fig, (ax1, ax2, ax3) = plt.subplots(3, 1, figsize=(8, 12))\n",
    "\n",
    "# Plotting histogram of World Area Burnt per Wildfire\n",
    "ax1.hist(emissions_world, bins=20, color='purple', edgecolor='black')\n",
    "ax1.set_title('Histogram of Annual Area Burnt per Wildfire (2003-2024) in the World')\n",
    "ax1.set_xlabel('Annual Area Burnt per Wildfire')\n",
    "ax1.set_ylabel('Area Burnt per Wildfire (mil Hectares)')\n",
    "ax1.grid(True)\n",
    "\n",
    "# Plotting line plot of India Area Burnt per Wildfire\n",
    "ax2.plot(years_india, emissions_india, marker='o', linestyle='-', color='purple')\n",
    "ax2.set_title('Annual Area Burnt per Wildfire (2003-2023) in India')\n",
    "ax2.set_xlabel('Year')\n",
    "ax2.set_ylabel('Area Burnt per Wildfire (mil Hectares)')\n",
    "ax2.grid(True)\n",
    "ax2.set_xticks(years_india)\n",
    "ax2.set_xticklabels(years_india, rotation=45)\n",
    "\n",
    "# Adding box plot for World Area Burnt per Wildfire\n",
    "sns.boxplot(data=emissions_world, ax=ax3, color='purple')\n",
    "ax3.set_title('Box Plot of Annual Area Burnt per Wildfire (2003-2024) in the World')\n",
    "ax3.set_xlabel('Annual Area Burnt per Wildfire')\n",
    "ax3.set_ylabel('Area Burnt per Wildfire (mil Hectares)')\n",
    "ax3.grid(True)\n",
    "\n",
    "# Adjust layout and show plot\n",
    "plt.tight_layout()\n",
    "plt.show()"
   ]
  },
  {
   "cell_type": "code",
   "execution_count": null,
   "metadata": {},
   "outputs": [],
   "source": []
  }
 ],
 "metadata": {
  "kernelspec": {
   "display_name": "base",
   "language": "python",
   "name": "python3"
  },
  "language_info": {
   "codemirror_mode": {
    "name": "ipython",
    "version": 3
   },
   "file_extension": ".py",
   "mimetype": "text/x-python",
   "name": "python",
   "nbconvert_exporter": "python",
   "pygments_lexer": "ipython3",
   "version": "3.11.5"
  }
 },
 "nbformat": 4,
 "nbformat_minor": 2
}
